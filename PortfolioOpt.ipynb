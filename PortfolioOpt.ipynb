{
 "cells": [
  {
   "cell_type": "markdown",
   "metadata": {},
   "source": [
    "### Using the [PyPortfolioOpt library](https://github.com/robertmartin8/PyPortfolioOpt) library to generate an optimzied portfolio from the S&P 500 list of companies\n",
    "Reference: [Build A Killer Stock Portfolio Using Python](https://www.youtube.com/watch?v=bvDkel5whUY&t=2s&ab_channel=ComputerScience)\n",
    "\n",
    "<b><font color=\"red\">Click <a href=\"https://colab.research.google.com/github/ebharucha/Portfolio-Optimization/blob/master/PortfolioOpt.ipynb\" target=\"#\">here</a> to open/run the notebook in Google Colab</font></b>\n",
    "\n",
    "@ebharucha 12/31/2020"
   ]
  },
  {
   "cell_type": "markdown",
   "metadata": {},
   "source": [
    "### Install & import dependencies"
   ]
  },
  {
   "cell_type": "code",
   "execution_count": 2,
   "metadata": {},
   "outputs": [],
   "source": [
    "!pip install PyPortfolioOpt\n",
    "!pip install pulp"
   ]
  },
  {
   "cell_type": "code",
   "execution_count": 103,
   "metadata": {},
   "outputs": [],
   "source": [
    "import pandas as pd\n",
    "import pandas_datareader as web\n",
    "import datetime\n",
    "from dateutil.relativedelta import relativedelta\n",
    "import os\n",
    "import shutil\n",
    "import pickle\n",
    "from pypfopt.efficient_frontier import EfficientFrontier\n",
    "from pypfopt.discrete_allocation import DiscreteAllocation, get_latest_prices\n",
    "from pypfopt import risk_models, expected_returns\n",
    "import warnings\n",
    "warnings.filterwarnings(\"ignore\")"
   ]
  },
  {
   "cell_type": "markdown",
   "metadata": {},
   "source": [
    "### Get & initialize data"
   ]
  },
  {
   "cell_type": "markdown",
   "metadata": {},
   "source": [
    "#### <font color=\"Red\">Specify value of overall portfolio in USD</font>"
   ]
  },
  {
   "cell_type": "code",
   "execution_count": 2,
   "metadata": {},
   "outputs": [],
   "source": [
    "portfolio_val = 50000"
   ]
  },
  {
   "cell_type": "markdown",
   "metadata": {},
   "source": [
    "#### Get S&P 500 companies"
   ]
  },
  {
   "cell_type": "code",
   "execution_count": 3,
   "metadata": {},
   "outputs": [],
   "source": [
    "DATADIR = './data'\n",
    "if not os.path.exists(DATADIR):\n",
    "    os.makedirs(DATADIR)\n",
    "\n",
    "table=pd.read_html('https://en.wikipedia.org/wiki/List_of_S%26P_500_companies')\n",
    "df_SP500_ = table[0]\n",
    "df_SP500_.Symbol = df_SP500_.Symbol.replace('\\.','-', regex=True)\n",
    "df_SP500_.to_csv(f'{DATADIR}/S&P500-Info.csv')\n",
    "df_SP500_.to_csv(f'{DATADIR}/S&P500-Symbols.csv', columns=['Symbol'])"
   ]
  },
  {
   "cell_type": "markdown",
   "metadata": {},
   "source": [
    "#### Load daily closing prices for S&P 500 components over past 10 years in a DataFrame\n",
    "\n",
    "<i><font color=\"Red\">This will take some time to run</font></i>"
   ]
  },
  {
   "cell_type": "code",
   "execution_count": 180,
   "metadata": {},
   "outputs": [],
   "source": [
    "symbols = df_SP500_.Symbol\n",
    "\n",
    "PKLFILE = 'SP500.pkl'\n",
    "shutil.copyfile(f'{DATADIR}/{PKLFILE}', f'{DATADIR}/{PKLFILE}.bak')  # Make a backup copy\n",
    "\n",
    "today = str(datetime.date.today())\n",
    "f = lambda sym, start: web.get_data_yahoo(sym,\n",
    "                            start = start,\n",
    "                            end = today)['Adj Close']\n",
    "\n",
    "# Load fromdata pickle file if it exists\n",
    "if os.path.isfile(f'{DATADIR}/{PKLFILE}'):\n",
    "    try:\n",
    "        with open(f'{DATADIR}/{PKLFILE}', 'rb') as pklfile:\n",
    "            df_SP500 = pickle.load(pklfile)\n",
    "    except:\n",
    "        print (f'Failed to load {DATADIR}/{PKLFILE}')\n",
    "    last = df_SP500.iloc[-1:].index[0].to_pydatetime().date()\n",
    "    if (str(last + relativedelta(days=+1)) != today):\n",
    "        start = str(last + relativedelta(days=+1))\n",
    "        print (f'Fetching missing data from {start} to {today}')\n",
    "        df_tmp = pd.DataFrame(columns=symbols)\n",
    "        df_tmp = f(symbols, start)\n",
    "        df_tmp = df_tmp.iloc[1:,:]\n",
    "        df_SP500 = pd.concat([df_SP500, df_tmp], axis=0)\n",
    "else:\n",
    "    current_year = datetime.datetime.now().year\n",
    "    start = (f'{current_year-10}-01-01')\n",
    "    df_SP500 = pd.DataFrame(columns=symbols)\n",
    "    df_SP500 = f(symbols, start)\n",
    "    \n",
    "# Pickle the data\n",
    "with open (f'{DATADIR}/SP500.pkl', 'wb') as pklfile:\n",
    "    pickle.dump(df_SP500, pklfile)"
   ]
  },
  {
   "cell_type": "markdown",
   "metadata": {},
   "source": [
    "#### <font color=\"red\">Specify how many years of past data to use  default is 10</font>"
   ]
  },
  {
   "cell_type": "code",
   "execution_count": 181,
   "metadata": {},
   "outputs": [],
   "source": [
    "# Specify how many yers of past data to use \n",
    "no_of_years = 5  # default value is 10, which is the furthest back you can go\n",
    "current_year = datetime.datetime.now().year\n",
    "start_date = f'{current_year-no_of_years-1}-12-31'\n",
    "\n",
    "df_SP500 = df_SP500.loc[start_date:]"
   ]
  },
  {
   "cell_type": "markdown",
   "metadata": {},
   "source": [
    "#### Get latest prices"
   ]
  },
  {
   "cell_type": "code",
   "execution_count": 193,
   "metadata": {},
   "outputs": [],
   "source": [
    "latest_prices = get_latest_prices(df_SP500)"
   ]
  },
  {
   "cell_type": "markdown",
   "metadata": {},
   "source": [
    "### Portfolio optimization"
   ]
  },
  {
   "cell_type": "markdown",
   "metadata": {},
   "source": [
    "#### Expected annualized returns & annualized covariance matrix of the daily asset returns"
   ]
  },
  {
   "cell_type": "code",
   "execution_count": 194,
   "metadata": {},
   "outputs": [],
   "source": [
    "mu = expected_returns.mean_historical_return(df_SP500)\n",
    "S = risk_models.sample_cov(df_SP500)"
   ]
  },
  {
   "cell_type": "markdown",
   "metadata": {},
   "source": [
    "#### Optimzie for the maximal Sharpe ratio"
   ]
  },
  {
   "cell_type": "code",
   "execution_count": 195,
   "metadata": {},
   "outputs": [
    {
     "name": "stdout",
     "output_type": "stream",
     "text": [
      "Expected annual return: 136.7%\n",
      "Annual volatility: 25.5%\n",
      "Sharpe Ratio: 5.28\n"
     ]
    },
    {
     "data": {
      "text/plain": [
       "(1.3672991690223297, 0.2552026379747216, 5.279330886680658)"
      ]
     },
     "execution_count": 195,
     "metadata": {},
     "output_type": "execute_result"
    }
   ],
   "source": [
    "ef = EfficientFrontier(mu, S)\n",
    "weights = ef.max_sharpe()\n",
    "cleaned_weights = ef.clean_weights()\n",
    "weights = cleaned_weights\n",
    "# print (cleaned_weights)\n",
    "ef.portfolio_performance(verbose=True)"
   ]
  },
  {
   "cell_type": "markdown",
   "metadata": {},
   "source": [
    "#### Get stock allocations"
   ]
  },
  {
   "cell_type": "code",
   "execution_count": 196,
   "metadata": {},
   "outputs": [
    {
     "name": "stdout",
     "output_type": "stream",
     "text": [
      "Discrete share allocations: {'AMD': 34, 'CARR': 365, 'DPZ': 12, 'ETSY': 3, 'NEM': 80, 'POOL': 11, 'TTWO': 9, 'FTI': 2, 'VNT': 351, 'WMT': 38}\n",
      "Funds remaining: $0.10\n"
     ]
    }
   ],
   "source": [
    "da = DiscreteAllocation(weights, latest_prices, total_portfolio_value=portfolio_val)\n",
    "allocation, leftover = da.lp_portfolio()\n",
    "print (f'Discrete share allocations: {allocation}')\n",
    "print (f'Funds remaining: ${leftover:.2f}')"
   ]
  },
  {
   "cell_type": "code",
   "execution_count": 197,
   "metadata": {},
   "outputs": [
    {
     "data": {
      "text/plain": [
       "('Netflix Inc.', 'Communication Services')"
      ]
     },
     "execution_count": 197,
     "metadata": {},
     "output_type": "execute_result"
    }
   ],
   "source": [
    "# Get company name & sector\n",
    "name = lambda sym: df_SP500_[df_SP500_.Symbol == sym].Security.values[0]\n",
    "sector_ = lambda sym: df_SP500_[df_SP500_.Symbol == sym]['GICS Sector'].values[0]\n",
    "\n",
    "name('NFLX'), sector_('NFLX')"
   ]
  },
  {
   "cell_type": "markdown",
   "metadata": {},
   "source": [
    "#### Construct portfolio DataFrame"
   ]
  },
  {
   "cell_type": "code",
   "execution_count": 187,
   "metadata": {},
   "outputs": [],
   "source": [
    "port_df = pd.DataFrame(columns=['Symbol', 'Company Name', \"Sector\", \"Price\", \"No. of Shares\", \"Allocation($)\"])"
   ]
  },
  {
   "cell_type": "code",
   "execution_count": 188,
   "metadata": {},
   "outputs": [],
   "source": [
    "symbols = allocation.keys()\n",
    "company_name = []\n",
    "sector = []\n",
    "price = []\n",
    "no_of_shares = []\n",
    "allocation_dollar = []\n",
    "total_allocation = 0\n",
    "\n",
    "for sym in symbols:\n",
    "    company_name.append(name(sym))\n",
    "    sector.append(sector_(sym))\n",
    "    price.append(f'{latest_prices[sym]:,.2f}')\n",
    "    no_of_shares.append(allocation.get(sym))\n",
    "    allocation_dollar.append(f'{allocation.get(sym) * latest_prices[sym]:,.2f}')\n",
    "    total_allocation = total_allocation + allocation.get(sym) * latest_prices[sym]"
   ]
  },
  {
   "cell_type": "code",
   "execution_count": 189,
   "metadata": {},
   "outputs": [],
   "source": [
    "port_df['Symbol'] = symbols\n",
    "port_df['Company Name'] = company_name\n",
    "port_df['Sector'] = sector\n",
    "port_df['Price'] = price\n",
    "port_df['No. of Shares'] = no_of_shares\n",
    "port_df['Allocation($)'] = allocation_dollar"
   ]
  },
  {
   "cell_type": "markdown",
   "metadata": {},
   "source": [
    "### <font color=\"red\">Display portfolio allocations & expected performance</dont>"
   ]
  },
  {
   "cell_type": "code",
   "execution_count": 190,
   "metadata": {},
   "outputs": [
    {
     "data": {
      "text/html": [
       "<div>\n",
       "<style scoped>\n",
       "    .dataframe tbody tr th:only-of-type {\n",
       "        vertical-align: middle;\n",
       "    }\n",
       "\n",
       "    .dataframe tbody tr th {\n",
       "        vertical-align: top;\n",
       "    }\n",
       "\n",
       "    .dataframe thead th {\n",
       "        text-align: right;\n",
       "    }\n",
       "</style>\n",
       "<table border=\"1\" class=\"dataframe\">\n",
       "  <thead>\n",
       "    <tr style=\"text-align: right;\">\n",
       "      <th></th>\n",
       "      <th>Symbol</th>\n",
       "      <th>Company Name</th>\n",
       "      <th>Sector</th>\n",
       "      <th>Price</th>\n",
       "      <th>No. of Shares</th>\n",
       "      <th>Allocation($)</th>\n",
       "    </tr>\n",
       "  </thead>\n",
       "  <tbody>\n",
       "    <tr>\n",
       "      <th>0</th>\n",
       "      <td>AMD</td>\n",
       "      <td>Advanced Micro Devices Inc</td>\n",
       "      <td>Information Technology</td>\n",
       "      <td>91.71</td>\n",
       "      <td>34</td>\n",
       "      <td>3,118.14</td>\n",
       "    </tr>\n",
       "    <tr>\n",
       "      <th>1</th>\n",
       "      <td>CARR</td>\n",
       "      <td>Carrier Global</td>\n",
       "      <td>Industrials</td>\n",
       "      <td>37.72</td>\n",
       "      <td>365</td>\n",
       "      <td>13,767.80</td>\n",
       "    </tr>\n",
       "    <tr>\n",
       "      <th>2</th>\n",
       "      <td>DPZ</td>\n",
       "      <td>Domino's Pizza</td>\n",
       "      <td>Consumer Discretionary</td>\n",
       "      <td>383.46</td>\n",
       "      <td>12</td>\n",
       "      <td>4,601.52</td>\n",
       "    </tr>\n",
       "    <tr>\n",
       "      <th>3</th>\n",
       "      <td>ETSY</td>\n",
       "      <td>Etsy</td>\n",
       "      <td>Consumer Discretionary</td>\n",
       "      <td>177.91</td>\n",
       "      <td>3</td>\n",
       "      <td>533.73</td>\n",
       "    </tr>\n",
       "    <tr>\n",
       "      <th>4</th>\n",
       "      <td>NEM</td>\n",
       "      <td>Newmont Corporation</td>\n",
       "      <td>Materials</td>\n",
       "      <td>59.89</td>\n",
       "      <td>80</td>\n",
       "      <td>4,791.20</td>\n",
       "    </tr>\n",
       "    <tr>\n",
       "      <th>5</th>\n",
       "      <td>POOL</td>\n",
       "      <td>Pool Corporation</td>\n",
       "      <td>Consumer Discretionary</td>\n",
       "      <td>372.50</td>\n",
       "      <td>11</td>\n",
       "      <td>4,097.50</td>\n",
       "    </tr>\n",
       "    <tr>\n",
       "      <th>6</th>\n",
       "      <td>TTWO</td>\n",
       "      <td>Take-Two Interactive</td>\n",
       "      <td>Communication Services</td>\n",
       "      <td>207.79</td>\n",
       "      <td>9</td>\n",
       "      <td>1,870.11</td>\n",
       "    </tr>\n",
       "    <tr>\n",
       "      <th>7</th>\n",
       "      <td>FTI</td>\n",
       "      <td>TechnipFMC</td>\n",
       "      <td>Energy</td>\n",
       "      <td>9.40</td>\n",
       "      <td>2</td>\n",
       "      <td>18.80</td>\n",
       "    </tr>\n",
       "    <tr>\n",
       "      <th>8</th>\n",
       "      <td>VNT</td>\n",
       "      <td>Vontier</td>\n",
       "      <td>Information Technology</td>\n",
       "      <td>33.40</td>\n",
       "      <td>351</td>\n",
       "      <td>11,723.40</td>\n",
       "    </tr>\n",
       "    <tr>\n",
       "      <th>9</th>\n",
       "      <td>WMT</td>\n",
       "      <td>Walmart</td>\n",
       "      <td>Consumer Staples</td>\n",
       "      <td>144.15</td>\n",
       "      <td>38</td>\n",
       "      <td>5,477.70</td>\n",
       "    </tr>\n",
       "  </tbody>\n",
       "</table>\n",
       "</div>"
      ],
      "text/plain": [
       "  Symbol                Company Name                  Sector   Price  \\\n",
       "0    AMD  Advanced Micro Devices Inc  Information Technology   91.71   \n",
       "1   CARR              Carrier Global             Industrials   37.72   \n",
       "2    DPZ              Domino's Pizza  Consumer Discretionary  383.46   \n",
       "3   ETSY                        Etsy  Consumer Discretionary  177.91   \n",
       "4    NEM         Newmont Corporation               Materials   59.89   \n",
       "5   POOL            Pool Corporation  Consumer Discretionary  372.50   \n",
       "6   TTWO        Take-Two Interactive  Communication Services  207.79   \n",
       "7    FTI                  TechnipFMC                  Energy    9.40   \n",
       "8    VNT                     Vontier  Information Technology   33.40   \n",
       "9    WMT                     Walmart        Consumer Staples  144.15   \n",
       "\n",
       "   No. of Shares Allocation($)  \n",
       "0             34      3,118.14  \n",
       "1            365     13,767.80  \n",
       "2             12      4,601.52  \n",
       "3              3        533.73  \n",
       "4             80      4,791.20  \n",
       "5             11      4,097.50  \n",
       "6              9      1,870.11  \n",
       "7              2         18.80  \n",
       "8            351     11,723.40  \n",
       "9             38      5,477.70  "
      ]
     },
     "execution_count": 190,
     "metadata": {},
     "output_type": "execute_result"
    }
   ],
   "source": [
    "port_df"
   ]
  },
  {
   "cell_type": "code",
   "execution_count": 179,
   "metadata": {},
   "outputs": [
    {
     "data": {
      "text/html": [
       "<div>\n",
       "<style scoped>\n",
       "    .dataframe tbody tr th:only-of-type {\n",
       "        vertical-align: middle;\n",
       "    }\n",
       "\n",
       "    .dataframe tbody tr th {\n",
       "        vertical-align: top;\n",
       "    }\n",
       "\n",
       "    .dataframe thead th {\n",
       "        text-align: right;\n",
       "    }\n",
       "</style>\n",
       "<table border=\"1\" class=\"dataframe\">\n",
       "  <thead>\n",
       "    <tr style=\"text-align: right;\">\n",
       "      <th></th>\n",
       "      <th>Symbol</th>\n",
       "      <th>Company Name</th>\n",
       "      <th>Sector</th>\n",
       "      <th>Price</th>\n",
       "      <th>No. of Shares</th>\n",
       "      <th>Allocation($)</th>\n",
       "    </tr>\n",
       "  </thead>\n",
       "  <tbody>\n",
       "    <tr>\n",
       "      <th>0</th>\n",
       "      <td>ATVI</td>\n",
       "      <td>Activision Blizzard</td>\n",
       "      <td>Communication Services</td>\n",
       "      <td>92.85</td>\n",
       "      <td>4</td>\n",
       "      <td>371.40</td>\n",
       "    </tr>\n",
       "    <tr>\n",
       "      <th>1</th>\n",
       "      <td>CARR</td>\n",
       "      <td>Carrier Global</td>\n",
       "      <td>Industrials</td>\n",
       "      <td>37.72</td>\n",
       "      <td>387</td>\n",
       "      <td>14,597.64</td>\n",
       "    </tr>\n",
       "    <tr>\n",
       "      <th>2</th>\n",
       "      <td>CHTR</td>\n",
       "      <td>Charter Communications</td>\n",
       "      <td>Communication Services</td>\n",
       "      <td>661.55</td>\n",
       "      <td>2</td>\n",
       "      <td>1,323.10</td>\n",
       "    </tr>\n",
       "    <tr>\n",
       "      <th>3</th>\n",
       "      <td>CLX</td>\n",
       "      <td>The Clorox Company</td>\n",
       "      <td>Consumer Staples</td>\n",
       "      <td>201.92</td>\n",
       "      <td>18</td>\n",
       "      <td>3,634.56</td>\n",
       "    </tr>\n",
       "    <tr>\n",
       "      <th>4</th>\n",
       "      <td>DG</td>\n",
       "      <td>Dollar General</td>\n",
       "      <td>Consumer Discretionary</td>\n",
       "      <td>210.30</td>\n",
       "      <td>5</td>\n",
       "      <td>1,051.50</td>\n",
       "    </tr>\n",
       "    <tr>\n",
       "      <th>5</th>\n",
       "      <td>DPZ</td>\n",
       "      <td>Domino's Pizza</td>\n",
       "      <td>Consumer Discretionary</td>\n",
       "      <td>383.46</td>\n",
       "      <td>25</td>\n",
       "      <td>9,586.50</td>\n",
       "    </tr>\n",
       "    <tr>\n",
       "      <th>6</th>\n",
       "      <td>F</td>\n",
       "      <td>Ford Motor Company</td>\n",
       "      <td>Consumer Discretionary</td>\n",
       "      <td>8.79</td>\n",
       "      <td>1</td>\n",
       "      <td>8.79</td>\n",
       "    </tr>\n",
       "    <tr>\n",
       "      <th>7</th>\n",
       "      <td>NFLX</td>\n",
       "      <td>Netflix Inc.</td>\n",
       "      <td>Communication Services</td>\n",
       "      <td>540.73</td>\n",
       "      <td>1</td>\n",
       "      <td>540.73</td>\n",
       "    </tr>\n",
       "    <tr>\n",
       "      <th>8</th>\n",
       "      <td>POOL</td>\n",
       "      <td>Pool Corporation</td>\n",
       "      <td>Consumer Discretionary</td>\n",
       "      <td>372.50</td>\n",
       "      <td>11</td>\n",
       "      <td>4,097.50</td>\n",
       "    </tr>\n",
       "    <tr>\n",
       "      <th>9</th>\n",
       "      <td>TTWO</td>\n",
       "      <td>Take-Two Interactive</td>\n",
       "      <td>Communication Services</td>\n",
       "      <td>207.79</td>\n",
       "      <td>2</td>\n",
       "      <td>415.58</td>\n",
       "    </tr>\n",
       "    <tr>\n",
       "      <th>10</th>\n",
       "      <td>VNT</td>\n",
       "      <td>Vontier</td>\n",
       "      <td>Information Technology</td>\n",
       "      <td>33.40</td>\n",
       "      <td>374</td>\n",
       "      <td>12,491.60</td>\n",
       "    </tr>\n",
       "    <tr>\n",
       "      <th>11</th>\n",
       "      <td>WMT</td>\n",
       "      <td>Walmart</td>\n",
       "      <td>Consumer Staples</td>\n",
       "      <td>144.15</td>\n",
       "      <td>13</td>\n",
       "      <td>1,873.95</td>\n",
       "    </tr>\n",
       "  </tbody>\n",
       "</table>\n",
       "</div>"
      ],
      "text/plain": [
       "   Symbol            Company Name                  Sector   Price  \\\n",
       "0    ATVI     Activision Blizzard  Communication Services   92.85   \n",
       "1    CARR          Carrier Global             Industrials   37.72   \n",
       "2    CHTR  Charter Communications  Communication Services  661.55   \n",
       "3     CLX      The Clorox Company        Consumer Staples  201.92   \n",
       "4      DG          Dollar General  Consumer Discretionary  210.30   \n",
       "5     DPZ          Domino's Pizza  Consumer Discretionary  383.46   \n",
       "6       F      Ford Motor Company  Consumer Discretionary    8.79   \n",
       "7    NFLX            Netflix Inc.  Communication Services  540.73   \n",
       "8    POOL        Pool Corporation  Consumer Discretionary  372.50   \n",
       "9    TTWO    Take-Two Interactive  Communication Services  207.79   \n",
       "10    VNT                 Vontier  Information Technology   33.40   \n",
       "11    WMT                 Walmart        Consumer Staples  144.15   \n",
       "\n",
       "    No. of Shares Allocation($)  \n",
       "0               4        371.40  \n",
       "1             387     14,597.64  \n",
       "2               2      1,323.10  \n",
       "3              18      3,634.56  \n",
       "4               5      1,051.50  \n",
       "5              25      9,586.50  \n",
       "6               1          8.79  \n",
       "7               1        540.73  \n",
       "8              11      4,097.50  \n",
       "9               2        415.58  \n",
       "10            374     12,491.60  \n",
       "11             13      1,873.95  "
      ]
     },
     "execution_count": 179,
     "metadata": {},
     "output_type": "execute_result"
    }
   ],
   "source": [
    "port_df"
   ]
  },
  {
   "cell_type": "code",
   "execution_count": 99,
   "metadata": {},
   "outputs": [
    {
     "name": "stdout",
     "output_type": "stream",
     "text": [
      "Total allocated amount = $49,999.90\n",
      "Amount remaining: $0.10\n",
      "Expected annual return: 136.7%\n",
      "Annual volatility: 25.5%\n",
      "Sharpe Ratio: 5.28\n"
     ]
    },
    {
     "data": {
      "text/plain": [
       "(1.3672872952337365, 0.25519869984984, 5.279365827594287)"
      ]
     },
     "execution_count": 99,
     "metadata": {},
     "output_type": "execute_result"
    }
   ],
   "source": [
    "print (f'Total allocated amount = ${total_allocation:,.2f}')\n",
    "print (f'Amount remaining: ${leftover:,.2f}')\n",
    "ef.portfolio_performance(verbose=True)"
   ]
  },
  {
   "cell_type": "code",
   "execution_count": null,
   "metadata": {},
   "outputs": [],
   "source": []
  }
 ],
 "metadata": {
  "kernelspec": {
   "display_name": "Python 3",
   "language": "python",
   "name": "python3"
  },
  "language_info": {
   "codemirror_mode": {
    "name": "ipython",
    "version": 3
   },
   "file_extension": ".py",
   "mimetype": "text/x-python",
   "name": "python",
   "nbconvert_exporter": "python",
   "pygments_lexer": "ipython3",
   "version": "3.7.3"
  }
 },
 "nbformat": 4,
 "nbformat_minor": 2
}
