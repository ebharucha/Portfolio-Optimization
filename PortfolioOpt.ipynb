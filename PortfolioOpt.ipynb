{
 "cells": [
  {
   "cell_type": "markdown",
   "metadata": {},
   "source": [
    "### Using the [PyPortfolioOpt library](https://github.com/robertmartin8/PyPortfolioOpt) library to generate an optimzied portfolio from the S&P 500 list of companies\n",
    "Reference: [Build A Killer Stock Portfolio Using Python](https://www.youtube.com/watch?v=bvDkel5whUY&t=2s&ab_channel=ComputerScience)\n",
    "\n",
    "<b><font color=\"red\">Click <a href=\"https://colab.research.google.com/github/ebharucha/Portfolio-Optimization/blob/master/PortfolioOpt.ipynb\" target=\"#\">here</a> to open/run the notebook in Google Colab</font></b>\n",
    "\n",
    "@ebharucha 12/31/2020"
   ]
  },
  {
   "cell_type": "markdown",
   "metadata": {},
   "source": [
    "### Install & import dependencies"
   ]
  },
  {
   "cell_type": "code",
   "execution_count": 216,
   "metadata": {},
   "outputs": [],
   "source": [
    "!pip install PyPortfolioOpt\n",
    "!pip install pulp"
   ]
  },
  {
   "cell_type": "code",
   "execution_count": 220,
   "metadata": {},
   "outputs": [],
   "source": [
    "import pandas as pd\n",
    "import pandas_datareader as web\n",
    "import datetime\n",
    "import pickle\n",
    "from pypfopt.efficient_frontier import EfficientFrontier\n",
    "from pypfopt.discrete_allocation import DiscreteAllocation, get_latest_prices\n",
    "from pypfopt import risk_models, expected_returns"
   ]
  },
  {
   "cell_type": "markdown",
   "metadata": {},
   "source": [
    "### Get & initialize data"
   ]
  },
  {
   "cell_type": "markdown",
   "metadata": {},
   "source": [
    "#### <font color=\"Red\">Specify value of overall portfolio in USD</font>"
   ]
  },
  {
   "cell_type": "code",
   "execution_count": 221,
   "metadata": {},
   "outputs": [],
   "source": [
    "portfolio_val = 50000"
   ]
  },
  {
   "cell_type": "markdown",
   "metadata": {},
   "source": [
    "#### Get S&P 500 companies"
   ]
  },
  {
   "cell_type": "code",
   "execution_count": 183,
   "metadata": {},
   "outputs": [],
   "source": [
    "DATADIR = './data'\n",
    "\n",
    "table=pd.read_html('https://en.wikipedia.org/wiki/List_of_S%26P_500_companies')\n",
    "df_SP500_ = table[0]\n",
    "df_SP500_.Symbol = df_SP500_.Symbol.replace('\\.','-', regex=True)\n",
    "df_SP500_.to_csv(f'{DATADIR}/S&P500-Info.csv')\n",
    "df_SP500_.to_csv(f'{DATADIR}/S&P500-Symbols.csv', columns=['Symbol'])"
   ]
  },
  {
   "cell_type": "markdown",
   "metadata": {},
   "source": [
    "#### Load daily closing prices for S&P 500 components over past 10 years in a DataFrame\n",
    "\n",
    "<i><font color=\"Red\">Only run this once per day to get updates.\n",
    "    If already run earlier in the day, then load data from pickle file</font></i>"
   ]
  },
  {
   "cell_type": "code",
   "execution_count": 153,
   "metadata": {},
   "outputs": [],
   "source": [
    "symbols = df_SP500_.Symbol\n",
    "df_SP500 = pd.DataFrame(columns=symbols)\n",
    "\n",
    "current_year = datetime.datetime.now().year\n",
    "today = str(datetime.date.today())\n",
    "\n",
    "f = lambda sym: web.get_data_yahoo(sym,\n",
    "                            start = (f'{current_year-10}-01-01'),\n",
    "                            end = today)['Adj Close']\n",
    "\n",
    "for sym in symbols:\n",
    "    df_SP500[sym] = f(sym)"
   ]
  },
  {
   "cell_type": "markdown",
   "metadata": {},
   "source": [
    "#### Pickle the data"
   ]
  },
  {
   "cell_type": "code",
   "execution_count": 188,
   "metadata": {},
   "outputs": [],
   "source": [
    "# with open (f'{DATADIR}/SP500.pkl', 'wb') as pklfile:\n",
    "#     pickle.dump(df_SP500, pklfile)\n",
    "\n",
    "with open(f'{DATADIR}/SP500.pkl', 'rb') as pklfile:\n",
    "    df_SP500 = pickle.load(pklfile)"
   ]
  },
  {
   "cell_type": "markdown",
   "metadata": {},
   "source": [
    "#### Get latest prices"
   ]
  },
  {
   "cell_type": "code",
   "execution_count": 227,
   "metadata": {},
   "outputs": [],
   "source": [
    "latest_prices = get_latest_prices(df_SP500)"
   ]
  },
  {
   "cell_type": "markdown",
   "metadata": {},
   "source": [
    "### Portfolio optimization"
   ]
  },
  {
   "cell_type": "markdown",
   "metadata": {},
   "source": [
    "#### Expected annualized returns & annualized covariance matrix of the daily asset returns"
   ]
  },
  {
   "cell_type": "code",
   "execution_count": 202,
   "metadata": {},
   "outputs": [
    {
     "name": "stderr",
     "output_type": "stream",
     "text": [
      "C:\\Users\\erb\\AppData\\Local\\Continuum\\anaconda3\\lib\\site-packages\\pypfopt\\risk_models.py:69: UserWarning: The covariance matrix is non positive semidefinite. Amending eigenvalues.\n",
      "  \"The covariance matrix is non positive semidefinite. Amending eigenvalues.\"\n",
      "C:\\Users\\erb\\AppData\\Local\\Continuum\\anaconda3\\lib\\site-packages\\pypfopt\\risk_models.py:88: UserWarning: Could not fix matrix. Please try a different risk model.\n",
      "  warnings.warn(\"Could not fix matrix. Please try a different risk model.\")\n"
     ]
    }
   ],
   "source": [
    "mu = expected_returns.mean_historical_return(df_SP500)\n",
    "S = risk_models.sample_cov(df_SP500)"
   ]
  },
  {
   "cell_type": "markdown",
   "metadata": {},
   "source": [
    "#### Optimzie for the maximal Sharpe ratio"
   ]
  },
  {
   "cell_type": "code",
   "execution_count": 222,
   "metadata": {},
   "outputs": [
    {
     "name": "stdout",
     "output_type": "stream",
     "text": [
      "Expected annual return: 141.0%\n",
      "Annual volatility: 28.7%\n",
      "Sharpe Ratio: 4.84\n"
     ]
    },
    {
     "data": {
      "text/plain": [
       "(1.4101475726538226, 0.2871356355576669, 4.841431715551141)"
      ]
     },
     "execution_count": 222,
     "metadata": {},
     "output_type": "execute_result"
    }
   ],
   "source": [
    "ef = EfficientFrontier(mu, S)\n",
    "weights = ef.max_sharpe()\n",
    "cleaned_weights = ef.clean_weights()\n",
    "weights = cleaned_weights\n",
    "# print (cleaned_weights)\n",
    "ef.portfolio_performance(verbose=True)"
   ]
  },
  {
   "cell_type": "markdown",
   "metadata": {},
   "source": [
    "#### Get stock allocations"
   ]
  },
  {
   "cell_type": "code",
   "execution_count": 230,
   "metadata": {},
   "outputs": [
    {
     "name": "stdout",
     "output_type": "stream",
     "text": [
      "Discrete share allocations: {'CARR': 413, 'CHTR': 3, 'CLX': 19, 'DG': 7, 'DPZ': 26, 'LUMN': 1, 'NFLX': 4, 'POOL': 8, 'FTI': 1, 'VNT': 325, 'WMT': 8, 'WEC': 3}\n",
      "Funds remaining: $7.12\n"
     ]
    }
   ],
   "source": [
    "da = DiscreteAllocation(weights, latest_prices, total_portfolio_value=portfolio_val)\n",
    "allocation, leftover = da.lp_portfolio()\n",
    "print (f'Discrete share allocations: {allocation}')\n",
    "print (f'Funds remaining: ${leftover:.2f}')"
   ]
  },
  {
   "cell_type": "code",
   "execution_count": 284,
   "metadata": {},
   "outputs": [
    {
     "data": {
      "text/plain": [
       "('Netflix Inc.', 'Communication Services')"
      ]
     },
     "execution_count": 284,
     "metadata": {},
     "output_type": "execute_result"
    }
   ],
   "source": [
    "# Get company name & sector\n",
    "name = lambda sym: df_SP500_[df_SP500_.Symbol == sym].Security.values[0]\n",
    "sector_ = lambda sym: df_SP500_[df_SP500_.Symbol == sym]['GICS Sector'].values[0]\n",
    "\n",
    "name('NFLX'), sector_('NFLX')"
   ]
  },
  {
   "cell_type": "markdown",
   "metadata": {},
   "source": [
    "#### Construct portfolio DataFrame"
   ]
  },
  {
   "cell_type": "code",
   "execution_count": 298,
   "metadata": {},
   "outputs": [],
   "source": [
    "port_df = pd.DataFrame(columns=['Symbol', 'Company Name', \"Sector\", \"No. of Shares\", \"Allocation($)\"])"
   ]
  },
  {
   "cell_type": "code",
   "execution_count": 305,
   "metadata": {},
   "outputs": [],
   "source": [
    "symbols = allocation.keys()\n",
    "company_name = []\n",
    "sector = []\n",
    "no_of_shares = []\n",
    "allocation_dollar = []\n",
    "total_allocation = 0\n",
    "\n",
    "for sym in symbols:\n",
    "    company_name.append(name(sym))\n",
    "    sector.append(sector_(sym))\n",
    "    no_of_shares.append(allocation.get(sym))\n",
    "    allocation_dollar.append(f'{allocation.get(sym) * latest_prices[sym]:,.2f}')\n",
    "    total_allocation = total_allocation + allocation.get(sym) * latest_prices[sym]"
   ]
  },
  {
   "cell_type": "code",
   "execution_count": 303,
   "metadata": {},
   "outputs": [],
   "source": [
    "port_df['Symbol'] = symbols\n",
    "port_df['Company Name'] = company_name\n",
    "port_df['Sector'] = sector\n",
    "port_df['No. of Shares'] = no_of_shares\n",
    "port_df['Allocation($)'] = allocation_dollar"
   ]
  },
  {
   "cell_type": "markdown",
   "metadata": {},
   "source": [
    "### <font color=\"red\">Display portfolio allocations & expected performance</dont>"
   ]
  },
  {
   "cell_type": "code",
   "execution_count": 326,
   "metadata": {},
   "outputs": [
    {
     "data": {
      "text/html": [
       "<div>\n",
       "<style scoped>\n",
       "    .dataframe tbody tr th:only-of-type {\n",
       "        vertical-align: middle;\n",
       "    }\n",
       "\n",
       "    .dataframe tbody tr th {\n",
       "        vertical-align: top;\n",
       "    }\n",
       "\n",
       "    .dataframe thead th {\n",
       "        text-align: right;\n",
       "    }\n",
       "</style>\n",
       "<table border=\"1\" class=\"dataframe\">\n",
       "  <thead>\n",
       "    <tr style=\"text-align: right;\">\n",
       "      <th></th>\n",
       "      <th>Symbol</th>\n",
       "      <th>Company Name</th>\n",
       "      <th>Sector</th>\n",
       "      <th>No. of Shares</th>\n",
       "      <th>Allocation($)</th>\n",
       "    </tr>\n",
       "  </thead>\n",
       "  <tbody>\n",
       "    <tr>\n",
       "      <th>0</th>\n",
       "      <td>CARR</td>\n",
       "      <td>Carrier Global</td>\n",
       "      <td>Industrials</td>\n",
       "      <td>413</td>\n",
       "      <td>15,582.49</td>\n",
       "    </tr>\n",
       "    <tr>\n",
       "      <th>1</th>\n",
       "      <td>CHTR</td>\n",
       "      <td>Charter Communications</td>\n",
       "      <td>Communication Services</td>\n",
       "      <td>3</td>\n",
       "      <td>1,960.47</td>\n",
       "    </tr>\n",
       "    <tr>\n",
       "      <th>2</th>\n",
       "      <td>CLX</td>\n",
       "      <td>The Clorox Company</td>\n",
       "      <td>Consumer Staples</td>\n",
       "      <td>19</td>\n",
       "      <td>3,819.76</td>\n",
       "    </tr>\n",
       "    <tr>\n",
       "      <th>3</th>\n",
       "      <td>DG</td>\n",
       "      <td>Dollar General</td>\n",
       "      <td>Consumer Discretionary</td>\n",
       "      <td>7</td>\n",
       "      <td>1,469.51</td>\n",
       "    </tr>\n",
       "    <tr>\n",
       "      <th>4</th>\n",
       "      <td>DPZ</td>\n",
       "      <td>Domino's Pizza</td>\n",
       "      <td>Consumer Discretionary</td>\n",
       "      <td>26</td>\n",
       "      <td>10,000.12</td>\n",
       "    </tr>\n",
       "    <tr>\n",
       "      <th>5</th>\n",
       "      <td>LUMN</td>\n",
       "      <td>Lumen Technologies</td>\n",
       "      <td>Communication Services</td>\n",
       "      <td>1</td>\n",
       "      <td>9.72</td>\n",
       "    </tr>\n",
       "    <tr>\n",
       "      <th>6</th>\n",
       "      <td>NFLX</td>\n",
       "      <td>Netflix Inc.</td>\n",
       "      <td>Communication Services</td>\n",
       "      <td>4</td>\n",
       "      <td>2,098.36</td>\n",
       "    </tr>\n",
       "    <tr>\n",
       "      <th>7</th>\n",
       "      <td>POOL</td>\n",
       "      <td>Pool Corporation</td>\n",
       "      <td>Consumer Discretionary</td>\n",
       "      <td>8</td>\n",
       "      <td>2,938.24</td>\n",
       "    </tr>\n",
       "    <tr>\n",
       "      <th>8</th>\n",
       "      <td>FTI</td>\n",
       "      <td>TechnipFMC</td>\n",
       "      <td>Energy</td>\n",
       "      <td>1</td>\n",
       "      <td>9.62</td>\n",
       "    </tr>\n",
       "    <tr>\n",
       "      <th>9</th>\n",
       "      <td>VNT</td>\n",
       "      <td>Vontier</td>\n",
       "      <td>Information Technology</td>\n",
       "      <td>325</td>\n",
       "      <td>10,679.50</td>\n",
       "    </tr>\n",
       "    <tr>\n",
       "      <th>10</th>\n",
       "      <td>WMT</td>\n",
       "      <td>Walmart</td>\n",
       "      <td>Consumer Staples</td>\n",
       "      <td>8</td>\n",
       "      <td>1,153.44</td>\n",
       "    </tr>\n",
       "    <tr>\n",
       "      <th>11</th>\n",
       "      <td>WEC</td>\n",
       "      <td>WEC Energy Group</td>\n",
       "      <td>Utilities</td>\n",
       "      <td>3</td>\n",
       "      <td>271.65</td>\n",
       "    </tr>\n",
       "  </tbody>\n",
       "</table>\n",
       "</div>"
      ],
      "text/plain": [
       "   Symbol            Company Name                  Sector  No. of Shares  \\\n",
       "0    CARR          Carrier Global             Industrials            413   \n",
       "1    CHTR  Charter Communications  Communication Services              3   \n",
       "2     CLX      The Clorox Company        Consumer Staples             19   \n",
       "3      DG          Dollar General  Consumer Discretionary              7   \n",
       "4     DPZ          Domino's Pizza  Consumer Discretionary             26   \n",
       "5    LUMN      Lumen Technologies  Communication Services              1   \n",
       "6    NFLX            Netflix Inc.  Communication Services              4   \n",
       "7    POOL        Pool Corporation  Consumer Discretionary              8   \n",
       "8     FTI              TechnipFMC                  Energy              1   \n",
       "9     VNT                 Vontier  Information Technology            325   \n",
       "10    WMT                 Walmart        Consumer Staples              8   \n",
       "11    WEC        WEC Energy Group               Utilities              3   \n",
       "\n",
       "   Allocation($)  \n",
       "0      15,582.49  \n",
       "1       1,960.47  \n",
       "2       3,819.76  \n",
       "3       1,469.51  \n",
       "4      10,000.12  \n",
       "5           9.72  \n",
       "6       2,098.36  \n",
       "7       2,938.24  \n",
       "8           9.62  \n",
       "9      10,679.50  \n",
       "10      1,153.44  \n",
       "11        271.65  "
      ]
     },
     "execution_count": 326,
     "metadata": {},
     "output_type": "execute_result"
    }
   ],
   "source": [
    "port_df"
   ]
  },
  {
   "cell_type": "code",
   "execution_count": 327,
   "metadata": {},
   "outputs": [
    {
     "name": "stdout",
     "output_type": "stream",
     "text": [
      "Total allocated amount = $49,992.88\n",
      "Amount remaining: $7.12\n",
      "Expected annual return: 141.0%\n",
      "Annual volatility: 28.7%\n",
      "Sharpe Ratio: 4.84\n"
     ]
    },
    {
     "data": {
      "text/plain": [
       "(1.4101475726538226, 0.2871356355576669, 4.841431715551141)"
      ]
     },
     "execution_count": 327,
     "metadata": {},
     "output_type": "execute_result"
    }
   ],
   "source": [
    "print (f'Total allocated amount = ${total_allocation:,.2f}')\n",
    "print (f'Amount remaining: ${leftover:,.2f}')\n",
    "ef.portfolio_performance(verbose=True)"
   ]
  }
 ],
 "metadata": {
  "kernelspec": {
   "display_name": "Python 3",
   "language": "python",
   "name": "python3"
  },
  "language_info": {
   "codemirror_mode": {
    "name": "ipython",
    "version": 3
   },
   "file_extension": ".py",
   "mimetype": "text/x-python",
   "name": "python",
   "nbconvert_exporter": "python",
   "pygments_lexer": "ipython3",
   "version": "3.7.3"
  }
 },
 "nbformat": 4,
 "nbformat_minor": 2
}
