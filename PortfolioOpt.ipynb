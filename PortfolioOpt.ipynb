{
 "cells": [
  {
   "cell_type": "markdown",
   "metadata": {},
   "source": [
    "### Using the [PyPortfolioOpt library](https://github.com/robertmartin8/PyPortfolioOpt) library to generate an optimzied portfolio from the S&P 500 list of companies\n",
    "Reference: [Build A Killer Stock Portfolio Using Python](https://www.youtube.com/watch?v=bvDkel5whUY&t=2s&ab_channel=ComputerScience)\n",
    "\n",
    "<b><font color=\"red\">Click <a href=\"https://colab.research.google.com/github/ebharucha/Portfolio-Optimization/blob/master/PortfolioOpt.ipynb\" target=\"#\">here</a> to open/run the notebook in Google Colab</font></b>\n",
    "\n",
    "@ebharucha 12/31/2020"
   ]
  },
  {
   "cell_type": "markdown",
   "metadata": {},
   "source": [
    "### Install & import dependencies"
   ]
  },
  {
   "cell_type": "code",
   "execution_count": 216,
   "metadata": {},
   "outputs": [],
   "source": [
    "!pip install PyPortfolioOpt\n",
    "!pip install pulp"
   ]
  },
  {
   "cell_type": "code",
   "execution_count": 20,
   "metadata": {},
   "outputs": [],
   "source": [
    "import pandas as pd\n",
    "import pandas_datareader as web\n",
    "import datetime\n",
    "import pickle\n",
    "from pypfopt.efficient_frontier import EfficientFrontier\n",
    "from pypfopt.discrete_allocation import DiscreteAllocation, get_latest_prices\n",
    "from pypfopt import risk_models, expected_returns\n",
    "import warnings\n",
    "warnings.filterwarnings(\"ignore\")"
   ]
  },
  {
   "cell_type": "markdown",
   "metadata": {},
   "source": [
    "### Get & initialize data"
   ]
  },
  {
   "cell_type": "markdown",
   "metadata": {},
   "source": [
    "#### <font color=\"Red\">Specify value of overall portfolio in USD</font>"
   ]
  },
  {
   "cell_type": "code",
   "execution_count": 4,
   "metadata": {},
   "outputs": [],
   "source": [
    "portfolio_val = 50000"
   ]
  },
  {
   "cell_type": "markdown",
   "metadata": {},
   "source": [
    "#### Get S&P 500 companies"
   ]
  },
  {
   "cell_type": "code",
   "execution_count": 25,
   "metadata": {},
   "outputs": [],
   "source": [
    "DATADIR = './data'\n",
    "\n",
    "table=pd.read_html('https://en.wikipedia.org/wiki/List_of_S%26P_500_companies')\n",
    "df_SP500_ = table[0]\n",
    "df_SP500_.Symbol = df_SP500_.Symbol.replace('\\.','-', regex=True)\n",
    "df_SP500_.to_csv(f'{DATADIR}/S&P500-Info.csv')\n",
    "df_SP500_.to_csv(f'{DATADIR}/S&P500-Symbols.csv', columns=['Symbol'])"
   ]
  },
  {
   "cell_type": "markdown",
   "metadata": {},
   "source": [
    "#### Load daily closing prices for S&P 500 components over past 10 years in a DataFrame\n",
    "\n",
    "<i><font color=\"Red\">Only run this once per day to get updates.\n",
    "    If already run earlier in the day, then load data from pickle file</font></i>"
   ]
  },
  {
   "cell_type": "code",
   "execution_count": 153,
   "metadata": {},
   "outputs": [],
   "source": [
    "symbols = df_SP500_.Symbol\n",
    "df_SP500 = pd.DataFrame(columns=symbols)\n",
    "\n",
    "current_year = datetime.datetime.now().year\n",
    "today = str(datetime.date.today())\n",
    "\n",
    "f = lambda sym: web.get_data_yahoo(sym,\n",
    "                            start = (f'{current_year-10}-01-01'),\n",
    "                            end = today)['Adj Close']\n",
    "\n",
    "for sym in symbols:\n",
    "    df_SP500[sym] = f(sym)"
   ]
  },
  {
   "cell_type": "markdown",
   "metadata": {},
   "source": [
    "#### Pickle the data"
   ]
  },
  {
   "cell_type": "code",
   "execution_count": 55,
   "metadata": {},
   "outputs": [],
   "source": [
    "DATADIR = './data'\n",
    "\n",
    "# with open (f'{DATADIR}/SP500.pkl', 'wb') as pklfile:\n",
    "#     pickle.dump(df_SP500, pklfile)\n",
    "\n",
    "with open(f'{DATADIR}/SP500.pkl', 'rb') as pklfile:\n",
    "    df_SP500 = pickle.load(pklfile)"
   ]
  },
  {
   "cell_type": "markdown",
   "metadata": {},
   "source": [
    "#### <font color=\"red\">Specify how many years of past data to use  default is 10</font>"
   ]
  },
  {
   "cell_type": "code",
   "execution_count": 60,
   "metadata": {},
   "outputs": [],
   "source": [
    "# Specify how many yers of past data to use \n",
    "no_of_years = 5  # default value is 10, which is the furthest back you can go\n",
    "current_year = datetime.datetime.now().year\n",
    "start_date = f'{current_year-no_of_years-1}-12-31'\n",
    "\n",
    "df_SP500 = df_SP500.loc[start_date:]"
   ]
  },
  {
   "cell_type": "markdown",
   "metadata": {},
   "source": [
    "#### Get latest prices"
   ]
  },
  {
   "cell_type": "code",
   "execution_count": 62,
   "metadata": {},
   "outputs": [],
   "source": [
    "latest_prices = get_latest_prices(df_SP500)"
   ]
  },
  {
   "cell_type": "markdown",
   "metadata": {},
   "source": [
    "### Portfolio optimization"
   ]
  },
  {
   "cell_type": "markdown",
   "metadata": {},
   "source": [
    "#### Expected annualized returns & annualized covariance matrix of the daily asset returns"
   ]
  },
  {
   "cell_type": "code",
   "execution_count": 63,
   "metadata": {},
   "outputs": [],
   "source": [
    "mu = expected_returns.mean_historical_return(df_SP500)\n",
    "S = risk_models.sample_cov(df_SP500)"
   ]
  },
  {
   "cell_type": "markdown",
   "metadata": {},
   "source": [
    "#### Optimzie for the maximal Sharpe ratio"
   ]
  },
  {
   "cell_type": "code",
   "execution_count": 64,
   "metadata": {},
   "outputs": [
    {
     "name": "stdout",
     "output_type": "stream",
     "text": [
      "Expected annual return: 139.9%\n",
      "Annual volatility: 27.4%\n",
      "Sharpe Ratio: 5.04\n"
     ]
    },
    {
     "data": {
      "text/plain": [
       "(1.3988281706206545, 0.27377081505157264, 5.036432281362469)"
      ]
     },
     "execution_count": 64,
     "metadata": {},
     "output_type": "execute_result"
    }
   ],
   "source": [
    "ef = EfficientFrontier(mu, S)\n",
    "weights = ef.max_sharpe()\n",
    "cleaned_weights = ef.clean_weights()\n",
    "weights = cleaned_weights\n",
    "# print (cleaned_weights)\n",
    "ef.portfolio_performance(verbose=True)"
   ]
  },
  {
   "cell_type": "markdown",
   "metadata": {},
   "source": [
    "#### Get stock allocations"
   ]
  },
  {
   "cell_type": "code",
   "execution_count": 65,
   "metadata": {},
   "outputs": [
    {
     "name": "stdout",
     "output_type": "stream",
     "text": [
      "Discrete share allocations: {'AMD': 19, 'AMZN': 1, 'CARR': 399, 'CLX': 14, 'DPZ': 11, 'LUMN': 1, 'NFLX': 2, 'NEM': 58, 'NVDA': 3, 'POOL': 14, 'TTWO': 5, 'VNT': 321}\n",
      "Funds remaining: $0.25\n"
     ]
    }
   ],
   "source": [
    "da = DiscreteAllocation(weights, latest_prices, total_portfolio_value=portfolio_val)\n",
    "allocation, leftover = da.lp_portfolio()\n",
    "print (f'Discrete share allocations: {allocation}')\n",
    "print (f'Funds remaining: ${leftover:.2f}')"
   ]
  },
  {
   "cell_type": "code",
   "execution_count": 66,
   "metadata": {},
   "outputs": [
    {
     "data": {
      "text/plain": [
       "('Netflix Inc.', 'Communication Services')"
      ]
     },
     "execution_count": 66,
     "metadata": {},
     "output_type": "execute_result"
    }
   ],
   "source": [
    "# Get company name & sector\n",
    "name = lambda sym: df_SP500_[df_SP500_.Symbol == sym].Security.values[0]\n",
    "sector_ = lambda sym: df_SP500_[df_SP500_.Symbol == sym]['GICS Sector'].values[0]\n",
    "\n",
    "name('NFLX'), sector_('NFLX')"
   ]
  },
  {
   "cell_type": "markdown",
   "metadata": {},
   "source": [
    "#### Construct portfolio DataFrame"
   ]
  },
  {
   "cell_type": "code",
   "execution_count": 27,
   "metadata": {},
   "outputs": [],
   "source": [
    "port_df = pd.DataFrame(columns=['Symbol', 'Company Name', \"Sector\", \"No. of Shares\", \"Allocation($)\"])"
   ]
  },
  {
   "cell_type": "code",
   "execution_count": 67,
   "metadata": {},
   "outputs": [],
   "source": [
    "symbols = allocation.keys()\n",
    "company_name = []\n",
    "sector = []\n",
    "no_of_shares = []\n",
    "allocation_dollar = []\n",
    "total_allocation = 0\n",
    "\n",
    "for sym in symbols:\n",
    "    company_name.append(name(sym))\n",
    "    sector.append(sector_(sym))\n",
    "    no_of_shares.append(allocation.get(sym))\n",
    "    allocation_dollar.append(f'{allocation.get(sym) * latest_prices[sym]:,.2f}')\n",
    "    total_allocation = total_allocation + allocation.get(sym) * latest_prices[sym]"
   ]
  },
  {
   "cell_type": "code",
   "execution_count": 68,
   "metadata": {},
   "outputs": [
    {
     "ename": "ValueError",
     "evalue": "Length of values (12) does not match length of index (11)",
     "output_type": "error",
     "traceback": [
      "\u001b[1;31m---------------------------------------------------------------------------\u001b[0m",
      "\u001b[1;31mValueError\u001b[0m                                Traceback (most recent call last)",
      "\u001b[1;32m<ipython-input-68-3025f1cd57dc>\u001b[0m in \u001b[0;36m<module>\u001b[1;34m\u001b[0m\n\u001b[1;32m----> 1\u001b[1;33m \u001b[0mport_df\u001b[0m\u001b[1;33m[\u001b[0m\u001b[1;34m'Symbol'\u001b[0m\u001b[1;33m]\u001b[0m \u001b[1;33m=\u001b[0m \u001b[0msymbols\u001b[0m\u001b[1;33m\u001b[0m\u001b[1;33m\u001b[0m\u001b[0m\n\u001b[0m\u001b[0;32m      2\u001b[0m \u001b[0mport_df\u001b[0m\u001b[1;33m[\u001b[0m\u001b[1;34m'Company Name'\u001b[0m\u001b[1;33m]\u001b[0m \u001b[1;33m=\u001b[0m \u001b[0mcompany_name\u001b[0m\u001b[1;33m\u001b[0m\u001b[1;33m\u001b[0m\u001b[0m\n\u001b[0;32m      3\u001b[0m \u001b[0mport_df\u001b[0m\u001b[1;33m[\u001b[0m\u001b[1;34m'Sector'\u001b[0m\u001b[1;33m]\u001b[0m \u001b[1;33m=\u001b[0m \u001b[0msector\u001b[0m\u001b[1;33m\u001b[0m\u001b[1;33m\u001b[0m\u001b[0m\n\u001b[0;32m      4\u001b[0m \u001b[0mport_df\u001b[0m\u001b[1;33m[\u001b[0m\u001b[1;34m'No. of Shares'\u001b[0m\u001b[1;33m]\u001b[0m \u001b[1;33m=\u001b[0m \u001b[0mno_of_shares\u001b[0m\u001b[1;33m\u001b[0m\u001b[1;33m\u001b[0m\u001b[0m\n\u001b[0;32m      5\u001b[0m \u001b[0mport_df\u001b[0m\u001b[1;33m[\u001b[0m\u001b[1;34m'Allocation($)'\u001b[0m\u001b[1;33m]\u001b[0m \u001b[1;33m=\u001b[0m \u001b[0mallocation_dollar\u001b[0m\u001b[1;33m\u001b[0m\u001b[1;33m\u001b[0m\u001b[0m\n",
      "\u001b[1;32m~\\AppData\\Local\\Continuum\\anaconda3\\lib\\site-packages\\pandas\\core\\frame.py\u001b[0m in \u001b[0;36m__setitem__\u001b[1;34m(self, key, value)\u001b[0m\n\u001b[0;32m   3042\u001b[0m         \u001b[1;32melse\u001b[0m\u001b[1;33m:\u001b[0m\u001b[1;33m\u001b[0m\u001b[1;33m\u001b[0m\u001b[0m\n\u001b[0;32m   3043\u001b[0m             \u001b[1;31m# set column\u001b[0m\u001b[1;33m\u001b[0m\u001b[1;33m\u001b[0m\u001b[1;33m\u001b[0m\u001b[0m\n\u001b[1;32m-> 3044\u001b[1;33m             \u001b[0mself\u001b[0m\u001b[1;33m.\u001b[0m\u001b[0m_set_item\u001b[0m\u001b[1;33m(\u001b[0m\u001b[0mkey\u001b[0m\u001b[1;33m,\u001b[0m \u001b[0mvalue\u001b[0m\u001b[1;33m)\u001b[0m\u001b[1;33m\u001b[0m\u001b[1;33m\u001b[0m\u001b[0m\n\u001b[0m\u001b[0;32m   3045\u001b[0m \u001b[1;33m\u001b[0m\u001b[0m\n\u001b[0;32m   3046\u001b[0m     \u001b[1;32mdef\u001b[0m \u001b[0m_setitem_slice\u001b[0m\u001b[1;33m(\u001b[0m\u001b[0mself\u001b[0m\u001b[1;33m,\u001b[0m \u001b[0mkey\u001b[0m\u001b[1;33m:\u001b[0m \u001b[0mslice\u001b[0m\u001b[1;33m,\u001b[0m \u001b[0mvalue\u001b[0m\u001b[1;33m)\u001b[0m\u001b[1;33m:\u001b[0m\u001b[1;33m\u001b[0m\u001b[1;33m\u001b[0m\u001b[0m\n",
      "\u001b[1;32m~\\AppData\\Local\\Continuum\\anaconda3\\lib\\site-packages\\pandas\\core\\frame.py\u001b[0m in \u001b[0;36m_set_item\u001b[1;34m(self, key, value)\u001b[0m\n\u001b[0;32m   3118\u001b[0m         \"\"\"\n\u001b[0;32m   3119\u001b[0m         \u001b[0mself\u001b[0m\u001b[1;33m.\u001b[0m\u001b[0m_ensure_valid_index\u001b[0m\u001b[1;33m(\u001b[0m\u001b[0mvalue\u001b[0m\u001b[1;33m)\u001b[0m\u001b[1;33m\u001b[0m\u001b[1;33m\u001b[0m\u001b[0m\n\u001b[1;32m-> 3120\u001b[1;33m         \u001b[0mvalue\u001b[0m \u001b[1;33m=\u001b[0m \u001b[0mself\u001b[0m\u001b[1;33m.\u001b[0m\u001b[0m_sanitize_column\u001b[0m\u001b[1;33m(\u001b[0m\u001b[0mkey\u001b[0m\u001b[1;33m,\u001b[0m \u001b[0mvalue\u001b[0m\u001b[1;33m)\u001b[0m\u001b[1;33m\u001b[0m\u001b[1;33m\u001b[0m\u001b[0m\n\u001b[0m\u001b[0;32m   3121\u001b[0m         \u001b[0mNDFrame\u001b[0m\u001b[1;33m.\u001b[0m\u001b[0m_set_item\u001b[0m\u001b[1;33m(\u001b[0m\u001b[0mself\u001b[0m\u001b[1;33m,\u001b[0m \u001b[0mkey\u001b[0m\u001b[1;33m,\u001b[0m \u001b[0mvalue\u001b[0m\u001b[1;33m)\u001b[0m\u001b[1;33m\u001b[0m\u001b[1;33m\u001b[0m\u001b[0m\n\u001b[0;32m   3122\u001b[0m \u001b[1;33m\u001b[0m\u001b[0m\n",
      "\u001b[1;32m~\\AppData\\Local\\Continuum\\anaconda3\\lib\\site-packages\\pandas\\core\\frame.py\u001b[0m in \u001b[0;36m_sanitize_column\u001b[1;34m(self, key, value, broadcast)\u001b[0m\n\u001b[0;32m   3766\u001b[0m \u001b[1;33m\u001b[0m\u001b[0m\n\u001b[0;32m   3767\u001b[0m             \u001b[1;31m# turn me into an ndarray\u001b[0m\u001b[1;33m\u001b[0m\u001b[1;33m\u001b[0m\u001b[1;33m\u001b[0m\u001b[0m\n\u001b[1;32m-> 3768\u001b[1;33m             \u001b[0mvalue\u001b[0m \u001b[1;33m=\u001b[0m \u001b[0msanitize_index\u001b[0m\u001b[1;33m(\u001b[0m\u001b[0mvalue\u001b[0m\u001b[1;33m,\u001b[0m \u001b[0mself\u001b[0m\u001b[1;33m.\u001b[0m\u001b[0mindex\u001b[0m\u001b[1;33m)\u001b[0m\u001b[1;33m\u001b[0m\u001b[1;33m\u001b[0m\u001b[0m\n\u001b[0m\u001b[0;32m   3769\u001b[0m             \u001b[1;32mif\u001b[0m \u001b[1;32mnot\u001b[0m \u001b[0misinstance\u001b[0m\u001b[1;33m(\u001b[0m\u001b[0mvalue\u001b[0m\u001b[1;33m,\u001b[0m \u001b[1;33m(\u001b[0m\u001b[0mnp\u001b[0m\u001b[1;33m.\u001b[0m\u001b[0mndarray\u001b[0m\u001b[1;33m,\u001b[0m \u001b[0mIndex\u001b[0m\u001b[1;33m)\u001b[0m\u001b[1;33m)\u001b[0m\u001b[1;33m:\u001b[0m\u001b[1;33m\u001b[0m\u001b[1;33m\u001b[0m\u001b[0m\n\u001b[0;32m   3770\u001b[0m                 \u001b[1;32mif\u001b[0m \u001b[0misinstance\u001b[0m\u001b[1;33m(\u001b[0m\u001b[0mvalue\u001b[0m\u001b[1;33m,\u001b[0m \u001b[0mlist\u001b[0m\u001b[1;33m)\u001b[0m \u001b[1;32mand\u001b[0m \u001b[0mlen\u001b[0m\u001b[1;33m(\u001b[0m\u001b[0mvalue\u001b[0m\u001b[1;33m)\u001b[0m \u001b[1;33m>\u001b[0m \u001b[1;36m0\u001b[0m\u001b[1;33m:\u001b[0m\u001b[1;33m\u001b[0m\u001b[1;33m\u001b[0m\u001b[0m\n",
      "\u001b[1;32m~\\AppData\\Local\\Continuum\\anaconda3\\lib\\site-packages\\pandas\\core\\internals\\construction.py\u001b[0m in \u001b[0;36msanitize_index\u001b[1;34m(data, index)\u001b[0m\n\u001b[0;32m    746\u001b[0m     \u001b[1;32mif\u001b[0m \u001b[0mlen\u001b[0m\u001b[1;33m(\u001b[0m\u001b[0mdata\u001b[0m\u001b[1;33m)\u001b[0m \u001b[1;33m!=\u001b[0m \u001b[0mlen\u001b[0m\u001b[1;33m(\u001b[0m\u001b[0mindex\u001b[0m\u001b[1;33m)\u001b[0m\u001b[1;33m:\u001b[0m\u001b[1;33m\u001b[0m\u001b[1;33m\u001b[0m\u001b[0m\n\u001b[0;32m    747\u001b[0m         raise ValueError(\n\u001b[1;32m--> 748\u001b[1;33m             \u001b[1;34m\"Length of values \"\u001b[0m\u001b[1;33m\u001b[0m\u001b[1;33m\u001b[0m\u001b[0m\n\u001b[0m\u001b[0;32m    749\u001b[0m             \u001b[1;34mf\"({len(data)}) \"\u001b[0m\u001b[1;33m\u001b[0m\u001b[1;33m\u001b[0m\u001b[0m\n\u001b[0;32m    750\u001b[0m             \u001b[1;34m\"does not match length of index \"\u001b[0m\u001b[1;33m\u001b[0m\u001b[1;33m\u001b[0m\u001b[0m\n",
      "\u001b[1;31mValueError\u001b[0m: Length of values (12) does not match length of index (11)"
     ]
    }
   ],
   "source": [
    "port_df['Symbol'] = symbols\n",
    "port_df['Company Name'] = company_name\n",
    "port_df['Sector'] = sector\n",
    "port_df['No. of Shares'] = no_of_shares\n",
    "port_df['Allocation($)'] = allocation_dollar"
   ]
  },
  {
   "cell_type": "markdown",
   "metadata": {},
   "source": [
    "### <font color=\"red\">Display portfolio allocations & expected performance</dont>"
   ]
  },
  {
   "cell_type": "code",
   "execution_count": 30,
   "metadata": {},
   "outputs": [
    {
     "data": {
      "text/html": [
       "<div>\n",
       "<style scoped>\n",
       "    .dataframe tbody tr th:only-of-type {\n",
       "        vertical-align: middle;\n",
       "    }\n",
       "\n",
       "    .dataframe tbody tr th {\n",
       "        vertical-align: top;\n",
       "    }\n",
       "\n",
       "    .dataframe thead th {\n",
       "        text-align: right;\n",
       "    }\n",
       "</style>\n",
       "<table border=\"1\" class=\"dataframe\">\n",
       "  <thead>\n",
       "    <tr style=\"text-align: right;\">\n",
       "      <th></th>\n",
       "      <th>Symbol</th>\n",
       "      <th>Company Name</th>\n",
       "      <th>Sector</th>\n",
       "      <th>No. of Shares</th>\n",
       "      <th>Allocation($)</th>\n",
       "    </tr>\n",
       "  </thead>\n",
       "  <tbody>\n",
       "    <tr>\n",
       "      <th>0</th>\n",
       "      <td>AMD</td>\n",
       "      <td>Advanced Micro Devices Inc</td>\n",
       "      <td>Information Technology</td>\n",
       "      <td>20</td>\n",
       "      <td>1,845.80</td>\n",
       "    </tr>\n",
       "    <tr>\n",
       "      <th>1</th>\n",
       "      <td>AMZN</td>\n",
       "      <td>Amazon.com Inc.</td>\n",
       "      <td>Consumer Discretionary</td>\n",
       "      <td>1</td>\n",
       "      <td>3,285.85</td>\n",
       "    </tr>\n",
       "    <tr>\n",
       "      <th>2</th>\n",
       "      <td>CARR</td>\n",
       "      <td>Carrier Global</td>\n",
       "      <td>Industrials</td>\n",
       "      <td>399</td>\n",
       "      <td>15,054.27</td>\n",
       "    </tr>\n",
       "    <tr>\n",
       "      <th>3</th>\n",
       "      <td>CLX</td>\n",
       "      <td>The Clorox Company</td>\n",
       "      <td>Consumer Staples</td>\n",
       "      <td>14</td>\n",
       "      <td>2,814.56</td>\n",
       "    </tr>\n",
       "    <tr>\n",
       "      <th>4</th>\n",
       "      <td>DPZ</td>\n",
       "      <td>Domino's Pizza</td>\n",
       "      <td>Consumer Discretionary</td>\n",
       "      <td>11</td>\n",
       "      <td>4,230.82</td>\n",
       "    </tr>\n",
       "    <tr>\n",
       "      <th>5</th>\n",
       "      <td>NFLX</td>\n",
       "      <td>Netflix Inc.</td>\n",
       "      <td>Communication Services</td>\n",
       "      <td>2</td>\n",
       "      <td>1,049.18</td>\n",
       "    </tr>\n",
       "    <tr>\n",
       "      <th>6</th>\n",
       "      <td>NEM</td>\n",
       "      <td>Newmont Corporation</td>\n",
       "      <td>Materials</td>\n",
       "      <td>56</td>\n",
       "      <td>3,381.84</td>\n",
       "    </tr>\n",
       "    <tr>\n",
       "      <th>7</th>\n",
       "      <td>NVDA</td>\n",
       "      <td>Nvidia Corporation</td>\n",
       "      <td>Information Technology</td>\n",
       "      <td>3</td>\n",
       "      <td>1,577.49</td>\n",
       "    </tr>\n",
       "    <tr>\n",
       "      <th>8</th>\n",
       "      <td>POOL</td>\n",
       "      <td>Pool Corporation</td>\n",
       "      <td>Consumer Discretionary</td>\n",
       "      <td>14</td>\n",
       "      <td>5,141.92</td>\n",
       "    </tr>\n",
       "    <tr>\n",
       "      <th>9</th>\n",
       "      <td>TTWO</td>\n",
       "      <td>Take-Two Interactive</td>\n",
       "      <td>Communication Services</td>\n",
       "      <td>5</td>\n",
       "      <td>1,031.75</td>\n",
       "    </tr>\n",
       "    <tr>\n",
       "      <th>10</th>\n",
       "      <td>VNT</td>\n",
       "      <td>Vontier</td>\n",
       "      <td>Information Technology</td>\n",
       "      <td>321</td>\n",
       "      <td>10,548.06</td>\n",
       "    </tr>\n",
       "  </tbody>\n",
       "</table>\n",
       "</div>"
      ],
      "text/plain": [
       "   Symbol                Company Name                  Sector  No. of Shares  \\\n",
       "0     AMD  Advanced Micro Devices Inc  Information Technology             20   \n",
       "1    AMZN             Amazon.com Inc.  Consumer Discretionary              1   \n",
       "2    CARR              Carrier Global             Industrials            399   \n",
       "3     CLX          The Clorox Company        Consumer Staples             14   \n",
       "4     DPZ              Domino's Pizza  Consumer Discretionary             11   \n",
       "5    NFLX                Netflix Inc.  Communication Services              2   \n",
       "6     NEM         Newmont Corporation               Materials             56   \n",
       "7    NVDA          Nvidia Corporation  Information Technology              3   \n",
       "8    POOL            Pool Corporation  Consumer Discretionary             14   \n",
       "9    TTWO        Take-Two Interactive  Communication Services              5   \n",
       "10    VNT                     Vontier  Information Technology            321   \n",
       "\n",
       "   Allocation($)  \n",
       "0       1,845.80  \n",
       "1       3,285.85  \n",
       "2      15,054.27  \n",
       "3       2,814.56  \n",
       "4       4,230.82  \n",
       "5       1,049.18  \n",
       "6       3,381.84  \n",
       "7       1,577.49  \n",
       "8       5,141.92  \n",
       "9       1,031.75  \n",
       "10     10,548.06  "
      ]
     },
     "execution_count": 30,
     "metadata": {},
     "output_type": "execute_result"
    }
   ],
   "source": [
    "port_df"
   ]
  },
  {
   "cell_type": "code",
   "execution_count": 31,
   "metadata": {},
   "outputs": [
    {
     "name": "stdout",
     "output_type": "stream",
     "text": [
      "Total allocated amount = $49,961.54\n",
      "Amount remaining: $38.46\n",
      "Expected annual return: 139.9%\n",
      "Annual volatility: 27.4%\n",
      "Sharpe Ratio: 5.04\n"
     ]
    },
    {
     "data": {
      "text/plain": [
       "(1.3986258505291957, 0.2737419087413329, 5.036225022570078)"
      ]
     },
     "execution_count": 31,
     "metadata": {},
     "output_type": "execute_result"
    }
   ],
   "source": [
    "print (f'Total allocated amount = ${total_allocation:,.2f}')\n",
    "print (f'Amount remaining: ${leftover:,.2f}')\n",
    "ef.portfolio_performance(verbose=True)"
   ]
  },
  {
   "cell_type": "code",
   "execution_count": null,
   "metadata": {},
   "outputs": [],
   "source": []
  }
 ],
 "metadata": {
  "kernelspec": {
   "display_name": "Python 3",
   "language": "python",
   "name": "python3"
  },
  "language_info": {
   "codemirror_mode": {
    "name": "ipython",
    "version": 3
   },
   "file_extension": ".py",
   "mimetype": "text/x-python",
   "name": "python",
   "nbconvert_exporter": "python",
   "pygments_lexer": "ipython3",
   "version": "3.7.3"
  }
 },
 "nbformat": 4,
 "nbformat_minor": 2
}
